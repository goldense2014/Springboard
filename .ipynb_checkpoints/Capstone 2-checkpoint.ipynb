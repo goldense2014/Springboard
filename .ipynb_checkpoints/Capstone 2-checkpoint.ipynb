{
 "cells": [
  {
   "cell_type": "code",
   "execution_count": null,
   "id": "d80e1984-dc67-45a2-ae84-2f628aebd88e",
   "metadata": {},
   "outputs": [],
   "source": [
    "## Purpose/Introduction\n",
    "\n",
    "'''\n",
    "The United States is currently undergoing a drug shortage, causing delays and discontinuations of treatment. \n",
    "The U.S. healthcare system is experiencing a strain on resources due to an aging population, and increased drug usage correlates with age. \n",
    "A model to predict drug demand based on population can forecast demand for future generations to mitigate supply chain bottlenecks. \n",
    "'''"
   ]
  },
  {
   "cell_type": "code",
   "execution_count": 208,
   "id": "ca4102b3-4dbd-4a25-adc4-89885ccecd8d",
   "metadata": {},
   "outputs": [],
   "source": [
    "## Import Libraries\n",
    "\n",
    "import pandas as pd\n",
    "from ydata_profiling import ProfileReport\n",
    "import matplotlib.pyplot as plt\n",
    "from matplotlib.dates import DateFormatter\n",
    "import seaborn as sns\n",
    "\n",
    "# Configure matplotlib for inline display in Jupyter\n",
    "%matplotlib inline"
   ]
  },
  {
   "cell_type": "code",
   "execution_count": null,
   "id": "a3437ac5-6323-4ef1-b09e-1fb79830f7fb",
   "metadata": {},
   "outputs": [],
   "source": [
    "## Import Data"
   ]
  },
  {
   "cell_type": "code",
   "execution_count": 172,
   "id": "a90c5448-a2e2-43d8-9294-7f2137e33a5a",
   "metadata": {},
   "outputs": [],
   "source": [
    "# Prescriptions dispensed 2009-2022\n",
    "prescriptions_dispensed = pd.read_excel('./Total drug prescriptions dispensed in the U.S. 2009-2022.xlsx', sheet_name = 'Data')\n",
    "\n",
    "# Prescription usage with age 1988-2018; percentages\n",
    "prescription_usage_with_age = pd.read_excel('./Percentage of U.S. population with usage of prescription drugs within past month between 1988 and 2018 by age.xlsx', sheet_name = 'Data')\n",
    "\n",
    "# Population data\n",
    "us_population_2016 = pd.read_excel('./us_population_2016.xls')\n",
    "us_population_2017 = pd.read_excel('./us_population_2017.xls')\n",
    "us_population_2018 = pd.read_excel('./us_population_2018.xls')\n",
    "us_population_2023 = pd.read_excel('./us_population_2023.xlsx')"
   ]
  },
  {
   "cell_type": "code",
   "execution_count": null,
   "id": "7c2634ac-157a-4888-b1fe-386e7c61eb42",
   "metadata": {},
   "outputs": [],
   "source": [
    "# API data on drug shortage info couldn't be obtained due to data owner not responding to email"
   ]
  },
  {
   "cell_type": "code",
   "execution_count": null,
   "id": "2230a83e-a21b-4903-8dde-e8a550763581",
   "metadata": {},
   "outputs": [],
   "source": [
    "## Clean Data"
   ]
  },
  {
   "cell_type": "code",
   "execution_count": null,
   "id": "0f9d4ab9-45e0-48fd-9305-768feee13ec6",
   "metadata": {},
   "outputs": [],
   "source": [
    "# Check out column names, print the first few rows"
   ]
  },
  {
   "cell_type": "code",
   "execution_count": 14,
   "id": "4a68209e-4c3d-4e66-b664-87d5389dbcb5",
   "metadata": {},
   "outputs": [
    {
     "name": "stdout",
     "output_type": "stream",
     "text": [
      "   Unnamed: 0                                         Unnamed: 1  Unnamed: 2\n",
      "0         NaN                                                NaN         NaN\n",
      "1         NaN  Total drug prescriptions dispensed in the U.S....         NaN\n",
      "2         NaN  Total number of medical prescriptions dispense...         NaN\n",
      "3         NaN                                                NaN         NaN\n",
      "4         NaN                                              2009*      3953.0\n",
      "(18, 3)\n"
     ]
    }
   ],
   "source": [
    "print(prescriptions_dispensed.head())\n",
    "print(prescriptions_dispensed.shape)"
   ]
  },
  {
   "cell_type": "code",
   "execution_count": 15,
   "id": "b3ff36f7-8cdb-4aa3-b5f2-eeb3c760fd13",
   "metadata": {},
   "outputs": [
    {
     "name": "stdout",
     "output_type": "stream",
     "text": [
      "   Unnamed: 0                                         Unnamed: 1 Unnamed: 2  \\\n",
      "0         NaN                                                NaN        NaN   \n",
      "1         NaN  U.S. population with usage of prescription dru...        NaN   \n",
      "2         NaN  Percentage of U.S. population with usage of pr...        NaN   \n",
      "3         NaN                                                NaN  1988-1994   \n",
      "4         NaN                                     Under 18 years       20.5   \n",
      "\n",
      "  Unnamed: 3 Unnamed: 4 Unnamed: 5 Unnamed: 6  \n",
      "0        NaN        NaN        NaN        NaN  \n",
      "1        NaN        NaN        NaN        NaN  \n",
      "2        NaN        NaN        NaN        NaN  \n",
      "3  1999-2002  2011-2014  2015-2018        NaN  \n",
      "4       23.8       21.5       21.5       in %  \n",
      "(8, 7)\n"
     ]
    }
   ],
   "source": [
    "print(prescription_usage_with_age.head())\n",
    "print(prescription_usage_with_age.shape)"
   ]
  },
  {
   "cell_type": "code",
   "execution_count": 87,
   "id": "460966b2-cc95-428d-a672-bdedbb970e6e",
   "metadata": {},
   "outputs": [
    {
     "name": "stdout",
     "output_type": "stream",
     "text": [
      "   table with row headers in column A and column headers in rows 5 and 6. Leading dots indicate subparts.  \\\n",
      "0            Table 1. Population by Age and Sex: 2016                                                       \n",
      "1   (Numbers in thousands. Civilian noninstitution...                                                       \n",
      "2                                                 NaN                                                       \n",
      "3                                                 Age                                                       \n",
      "4                                                 NaN                                                       \n",
      "5                                            All ages                                                       \n",
      "6                                      .Under 5 years                                                       \n",
      "7                                       .5 to 9 years                                                       \n",
      "8                                     .10 to 14 years                                                       \n",
      "9                                     .15 to 19 years                                                       \n",
      "10                                    .20 to 24 years                                                       \n",
      "11                                    .25 to 29 years                                                       \n",
      "12                                    .30 to 34 years                                                       \n",
      "13                                    .35 to 39 years                                                       \n",
      "14                                    .40 to 44 years                                                       \n",
      "15                                    .45 to 49 years                                                       \n",
      "16                                    .50 to 54 years                                                       \n",
      "17                                    .55 to 59 years                                                       \n",
      "18                                    .60 to 64 years                                                       \n",
      "19                                    .65 to 69 years                                                       \n",
      "20                                    .70 to 74 years                                                       \n",
      "21                                    .75 to 79 years                                                       \n",
      "22                                    .80 to 84 years                                                       \n",
      "23                                 .85 years and over                                                       \n",
      "24                                                NaN                                                       \n",
      "25                                    .Under 15 years                                                       \n",
      "26                                    .15 to 17 years                                                       \n",
      "27                                    .18 to 20 years                                                       \n",
      "28                                    .21 to 44 years                                                       \n",
      "29                                    .45 to 64 years                                                       \n",
      "30                                 .65 years and over                                                       \n",
      "31                                                NaN                                                       \n",
      "32                                         Median age                                                       \n",
      "33                                         Footnotes:                                                       \n",
      "34  1Plus armed forces living off post or with the...                                                       \n",
      "35                                                NaN                                                       \n",
      "36  Note: Details may not sum to totals because of...                                                       \n",
      "37                                                NaN                                                       \n",
      "38  SOURCE: U.S. Census Bureau, Current Population...                                                       \n",
      "39                                                NaN                                                       \n",
      "40                Internet release date:  August 2018                                                       \n",
      "\n",
      "    Unnamed: 1 Unnamed: 2 Unnamed: 3 Unnamed: 4 Unnamed: 5 Unnamed: 6  \n",
      "0          NaN        NaN        NaN        NaN        NaN        NaN  \n",
      "1          NaN        NaN        NaN        NaN        NaN        NaN  \n",
      "2          NaN        NaN        NaN        NaN        NaN        NaN  \n",
      "3   Both sexes        NaN       Male        NaN     Female        NaN  \n",
      "4       Number    Percent     Number    Percent     Number    Percent  \n",
      "5       318868        100     156205        100     162664        100  \n",
      "6        19923        6.2      10186        6.5       9737          6  \n",
      "7        20469        6.4      10449        6.7      10020        6.2  \n",
      "8        20573        6.5      10478        6.7      10094        6.2  \n",
      "9        20915        6.6      10630        6.8      10285        6.3  \n",
      "10       21973        6.9      11089        7.1      10884        6.7  \n",
      "11       22434          7      11287        7.2      11146        6.9  \n",
      "12       21329        6.7      10558        6.8      10771        6.6  \n",
      "13       20387        6.4      10056        6.4      10331        6.4  \n",
      "14       19618        6.2       9644        6.2       9974        6.1  \n",
      "15       20679        6.5      10127        6.5      10552        6.5  \n",
      "16       21887        6.9      10712        6.9      11174        6.9  \n",
      "17       21835        6.8      10626        6.8      11209        6.9  \n",
      "18       19300        6.1       9153        5.9      10148        6.2  \n",
      "19       16517        5.2       7775          5       8742        5.4  \n",
      "20       11425        3.6       5186        3.3       6239        3.8  \n",
      "21        8421        2.6       3854        2.5       4567        2.8  \n",
      "22        5637        1.8       2400        1.5       3237          2  \n",
      "23        5547        1.7       1995        1.3       3552        2.2  \n",
      "24                                                                     \n",
      "25       60965       19.1      31114       19.9      29851       18.4  \n",
      "26       13097        4.1       6624        4.2       6473          4  \n",
      "27       12354        3.9       6368        4.1       5985        3.7  \n",
      "28      101205       31.7      50272       32.2      50934       31.3  \n",
      "29       83701       26.2      40618         26      43083       26.5  \n",
      "30       47547       14.9      21209       13.6      26337       16.2  \n",
      "31         NaN        NaN        NaN        NaN        NaN        NaN  \n",
      "32        37.9  (X)             36.7  (X)            39.06  (X)        \n",
      "33         NaN        NaN        NaN        NaN        NaN        NaN  \n",
      "34         NaN        NaN        NaN        NaN        NaN        NaN  \n",
      "35         NaN        NaN        NaN        NaN        NaN        NaN  \n",
      "36         NaN        NaN        NaN        NaN        NaN        NaN  \n",
      "37         NaN        NaN        NaN        NaN        NaN        NaN  \n",
      "38         NaN        NaN        NaN        NaN        NaN        NaN  \n",
      "39         NaN        NaN        NaN        NaN        NaN        NaN  \n",
      "40         NaN        NaN        NaN        NaN        NaN        NaN  \n",
      "(41, 7)\n"
     ]
    }
   ],
   "source": [
    "print(us_population_2016) # printing everything to see format; format of this sheet will match sheets of other years\n",
    "print(us_population_2016.shape)"
   ]
  },
  {
   "cell_type": "code",
   "execution_count": 64,
   "id": "26344e5e-ac45-4330-b5d9-5b0a35bcdeb4",
   "metadata": {},
   "outputs": [
    {
     "name": "stdout",
     "output_type": "stream",
     "text": [
      "  table with row headers in column A and column headers in rows 5 and 6. Leading dots indicate subparts.  \\\n",
      "0           Table 1. Population by Age and Sex: 2017                                                       \n",
      "1  (Numbers in thousands. Civilian noninstitution...                                                       \n",
      "2                                                NaN                                                       \n",
      "3                                                Age                                                       \n",
      "4                                                NaN                                                       \n",
      "\n",
      "   Unnamed: 1 Unnamed: 2 Unnamed: 3 Unnamed: 4 Unnamed: 5 Unnamed: 6  \n",
      "0         NaN        NaN        NaN        NaN        NaN        NaN  \n",
      "1         NaN        NaN        NaN        NaN        NaN        NaN  \n",
      "2         NaN        NaN        NaN        NaN        NaN        NaN  \n",
      "3  Both sexes        NaN       Male        NaN     Female        NaN  \n",
      "4      Number    Percent     Number    Percent     Number    Percent  \n",
      "(41, 7)\n"
     ]
    }
   ],
   "source": [
    "print(us_population_2017.head())\n",
    "print(us_population_2017.shape)"
   ]
  },
  {
   "cell_type": "code",
   "execution_count": 65,
   "id": "8000ea2c-d9d2-4939-b9aa-04562a9a1376",
   "metadata": {},
   "outputs": [
    {
     "name": "stdout",
     "output_type": "stream",
     "text": [
      "  table with row headers in column A and column headers in rows 5 and 6. Leading dots indicate subparts.  \\\n",
      "0           Table 1. Population by Age and Sex: 2018                                                       \n",
      "1  (Numbers in thousands. Civilian noninstitution...                                                       \n",
      "2                                                NaN                                                       \n",
      "3                                                Age                                                       \n",
      "4                                                NaN                                                       \n",
      "\n",
      "   Unnamed: 1 Unnamed: 2 Unnamed: 3 Unnamed: 4 Unnamed: 5 Unnamed: 6  \n",
      "0         NaN        NaN        NaN        NaN        NaN        NaN  \n",
      "1         NaN        NaN        NaN        NaN        NaN        NaN  \n",
      "2         NaN        NaN        NaN        NaN        NaN        NaN  \n",
      "3  Both sexes        NaN       Male        NaN     Female        NaN  \n",
      "4      Number    Percent     Number    Percent     Number    Percent  \n",
      "(41, 7)\n"
     ]
    }
   ],
   "source": [
    "print(us_population_2018.head())\n",
    "print(us_population_2018.shape)"
   ]
  },
  {
   "cell_type": "code",
   "execution_count": 158,
   "id": "99652963-2b55-43af-9273-e4e7f2c39ca6",
   "metadata": {},
   "outputs": [
    {
     "name": "stdout",
     "output_type": "stream",
     "text": [
      "   Table with row headers in column A and column headers in rows 5 and 6. Leading dots indicate subparts.  \\\n",
      "0            Table 1. Population by Age and Sex: 2023                                                       \n",
      "1   (Numbers in thousands. Civilian noninstitution...                                                       \n",
      "2                                                 NaN                                                       \n",
      "3                                                 Age                                                       \n",
      "4                                                 NaN                                                       \n",
      "5                                            All ages                                                       \n",
      "6                                      .Under 5 years                                                       \n",
      "7                                       .5 to 9 years                                                       \n",
      "8                                     .10 to 14 years                                                       \n",
      "9                                     .15 to 19 years                                                       \n",
      "10                                    .20 to 24 years                                                       \n",
      "11                                    .25 to 29 years                                                       \n",
      "12                                    .30 to 34 years                                                       \n",
      "13                                    .35 to 39 years                                                       \n",
      "14                                    .40 to 44 years                                                       \n",
      "15                                    .45 to 49 years                                                       \n",
      "16                                    .50 to 54 years                                                       \n",
      "17                                    .55 to 59 years                                                       \n",
      "18                                    .60 to 64 years                                                       \n",
      "19                                    .65 to 69 years                                                       \n",
      "20                                    .70 to 74 years                                                       \n",
      "21                                    .75 to 79 years                                                       \n",
      "22                                    .80 to 84 years                                                       \n",
      "23                                 .85 years and over                                                       \n",
      "24                                                NaN                                                       \n",
      "25                                    .Under 15 years                                                       \n",
      "26                                    .15 to 17 years                                                       \n",
      "27                                    .18 to 20 years                                                       \n",
      "28                                    .21 to 44 years                                                       \n",
      "29                                    .45 to 64 years                                                       \n",
      "30                                 .65 years and over                                                       \n",
      "31                                                NaN                                                       \n",
      "32                                         Median age                                                       \n",
      "33                                  X Not applicable.                                                       \n",
      "34                                         Footnotes:                                                       \n",
      "35  1Plus members of the Armed Forces living off p...                                                       \n",
      "36  Note: Details may not sum to totals because of...                                                       \n",
      "37  Data users should exercise caution when compar...                                                       \n",
      "38                                                NaN                                                       \n",
      "39                                                NaN                                                       \n",
      "40                                                NaN                                                       \n",
      "41                                                NaN                                                       \n",
      "42                                                NaN                                                       \n",
      "43  Data users should exercise caution when compar...                                                       \n",
      "44                                                NaN                                                       \n",
      "45                                                NaN                                                       \n",
      "46                                                NaN                                                       \n",
      "47  Information on confidentiality protection, sam...                                                       \n",
      "48                                                NaN                                                       \n",
      "49  The U.S. Census Bureau reviewed this data prod...                                                       \n",
      "50                                                NaN                                                       \n",
      "51  SOURCE: U.S. Census Bureau, Current Population...                                                       \n",
      "52                   Internet release date: May 2024                                                        \n",
      "\n",
      "    Unnamed: 1 Unnamed: 2 Unnamed: 3 Unnamed: 4 Unnamed: 5 Unnamed: 6  \n",
      "0          NaN        NaN        NaN        NaN        NaN        NaN  \n",
      "1          NaN        NaN        NaN        NaN        NaN        NaN  \n",
      "2          NaN        NaN        NaN        NaN        NaN        NaN  \n",
      "3   Both sexes        NaN       Male        NaN     Female        NaN  \n",
      "4       Number    Percent     Number    Percent     Number    Percent  \n",
      "5       330632        100     163400        100     167232        100  \n",
      "6        18473        5.6       9441        5.8       9032        5.4  \n",
      "7        19929          6      10193        6.2       9737        5.8  \n",
      "8        20698        6.3      10618        6.5      10080          6  \n",
      "9        21577        6.5      10978        6.7      10599        6.3  \n",
      "10       22281        6.7      11233        6.9      11048        6.6  \n",
      "11       21788        6.6      11037        6.8      10751        6.4  \n",
      "12       23126          7      11640        7.1      11485        6.9  \n",
      "13       22178        6.7      11210        6.9      10968        6.6  \n",
      "14       21309        6.4      10616        6.5      10693        6.4  \n",
      "15       19537        5.9       9747          6       9789        5.9  \n",
      "16       20465        6.2      10158        6.2      10307        6.2  \n",
      "17       20380        6.2       9991        6.1      10389        6.2  \n",
      "18       21007        6.4      10234        6.3      10773        6.4  \n",
      "19       18417        5.6       8633        5.3       9783        5.9  \n",
      "20       15599        4.7       7369        4.5       8230        4.9  \n",
      "21       10851        3.3       4966          3       5885        3.5  \n",
      "22        6970        2.1       2959        1.8       4011        2.4  \n",
      "23        6047        1.8       2375        1.5       3672        2.2  \n",
      "24                                                                     \n",
      "25       59101       17.9      30252       18.5      28849       17.3  \n",
      "26       13399        4.1       6725        4.1       6675          4  \n",
      "27       12601        3.8       6579          4       6022        3.6  \n",
      "28      106258       32.1      53410       32.7      52847       31.6  \n",
      "29       81389       24.6      40131       24.6      41258       24.7  \n",
      "30       57884       17.5      26303       16.1      31581       18.9  \n",
      "31         NaN        NaN        NaN        NaN        NaN        NaN  \n",
      "32        38.9    X             37.9    X               40    X        \n",
      "33         NaN        NaN        NaN        NaN        NaN        NaN  \n",
      "34         NaN        NaN        NaN        NaN        NaN        NaN  \n",
      "35         NaN        NaN        NaN        NaN        NaN        NaN  \n",
      "36         NaN        NaN        NaN        NaN        NaN        NaN  \n",
      "37         NaN        NaN        NaN        NaN        NaN        NaN  \n",
      "38         NaN        NaN        NaN        NaN        NaN        NaN  \n",
      "39         NaN        NaN        NaN        NaN        NaN        NaN  \n",
      "40         NaN        NaN        NaN        NaN        NaN        NaN  \n",
      "41         NaN        NaN        NaN        NaN        NaN        NaN  \n",
      "42         NaN        NaN        NaN        NaN        NaN        NaN  \n",
      "43         NaN        NaN        NaN        NaN        NaN        NaN  \n",
      "44         NaN        NaN        NaN        NaN        NaN        NaN  \n",
      "45         NaN        NaN        NaN        NaN        NaN        NaN  \n",
      "46         NaN        NaN        NaN        NaN        NaN        NaN  \n",
      "47         NaN        NaN        NaN        NaN        NaN        NaN  \n",
      "48         NaN        NaN        NaN        NaN        NaN        NaN  \n",
      "49         NaN        NaN        NaN        NaN        NaN        NaN  \n",
      "50         NaN        NaN        NaN        NaN        NaN        NaN  \n",
      "51         NaN        NaN        NaN        NaN        NaN        NaN  \n",
      "52         NaN        NaN        NaN        NaN        NaN        NaN  \n",
      "(53, 7)\n"
     ]
    }
   ],
   "source": [
    "print(us_population_2023)\n",
    "print(us_population_2023.shape)"
   ]
  },
  {
   "cell_type": "code",
   "execution_count": null,
   "id": "67dd60a6-f9a5-4d2c-a6dd-adc28525175d",
   "metadata": {},
   "outputs": [],
   "source": [
    "# Trim dataframes"
   ]
  },
  {
   "cell_type": "code",
   "execution_count": 173,
   "id": "f1c7aa69-bb2a-48bf-8c6e-2a56b74348ce",
   "metadata": {},
   "outputs": [
    {
     "name": "stdout",
     "output_type": "stream",
     "text": [
      "    Year  Amount (millions)\n",
      "0   2009             3953.0\n",
      "1   2010             3990.0\n",
      "2   2011             4014.0\n",
      "3   2012             4154.0\n",
      "4   2013             4235.0\n",
      "5   2014             4325.0\n",
      "6   2015             4368.0\n",
      "7   2016             5821.0\n",
      "8   2017             5922.0\n",
      "9   2018             6077.0\n",
      "10  2019             6218.0\n",
      "11  2020             6324.0\n",
      "12  2021             6475.0\n",
      "13  2022             6707.0\n",
      "(14, 2)\n"
     ]
    }
   ],
   "source": [
    "# Drop rows/columns\n",
    "prescriptions_dispensed = prescriptions_dispensed.drop('Unnamed: 0', axis = 1)\n",
    "prescriptions_dispensed = prescriptions_dispensed.drop(index = [0,1,2,3], axis = 0)\n",
    "\n",
    "# Reset index\n",
    "prescriptions_dispensed.reset_index(drop = True, inplace = True)\n",
    "\n",
    "# Rename columns\n",
    "prescriptions_dispensed.rename(columns = {'Unnamed: 1':'Year', 'Unnamed: 2':'Amount (millions)'}, inplace = True)\n",
    "\n",
    "# Remove * symbols\n",
    "prescriptions_dispensed['Year'] = prescriptions_dispensed['Year'].str.replace('*','')\n",
    "\n",
    "print(prescriptions_dispensed)\n",
    "print(prescriptions_dispensed.shape)"
   ]
  },
  {
   "cell_type": "code",
   "execution_count": 174,
   "id": "cbbbbc78-8139-4003-b434-81b373a60145",
   "metadata": {},
   "outputs": [
    {
     "name": "stdout",
     "output_type": "stream",
     "text": [
      "0                Age 1988-1994 1999-2002 2011-2014 2015-2018\n",
      "1     Under 18 years      20.5      23.8      21.5      21.5\n",
      "2        18-44 years      31.3      35.9      37.1      35.7\n",
      "3        45-64 years      54.8      64.1        69      67.1\n",
      "4  65 years and over      73.6      84.7      90.6      88.5\n",
      "(4, 5)\n"
     ]
    }
   ],
   "source": [
    "# Drop rows/columns\n",
    "prescription_usage_with_age = prescription_usage_with_age.drop('Unnamed: 0', axis = 1)\n",
    "prescription_usage_with_age = prescription_usage_with_age.drop('Unnamed: 6', axis = 1)\n",
    "prescription_usage_with_age = prescription_usage_with_age.drop(index = [0,1,2], axis = 0)\n",
    "\n",
    "# Reset index\n",
    "prescription_usage_with_age.reset_index(drop = True, inplace = True)\n",
    "\n",
    "# Rename columns\n",
    "prescription_usage_with_age.iloc[0,0] = 'Age'\n",
    "prescription_usage_with_age.columns = prescription_usage_with_age.iloc[0]\n",
    "\n",
    "prescription_usage_with_age = prescription_usage_with_age.drop(index = 0, axis = 0)\n",
    "\n",
    "print(prescription_usage_with_age)\n",
    "print(prescription_usage_with_age.shape)"
   ]
  },
  {
   "cell_type": "code",
   "execution_count": 175,
   "id": "40a86bfc-283d-452b-b2f7-d6d808a95d85",
   "metadata": {},
   "outputs": [],
   "source": [
    "# Data to drop from population sheets\n",
    "\n",
    "list1 = list(range(5,25))\n",
    "list2 = list(range(31,41))\n",
    "list3 = list(range(31,53))"
   ]
  },
  {
   "cell_type": "code",
   "execution_count": 176,
   "id": "dd24a698-93be-4726-8478-a7238a94a3b7",
   "metadata": {},
   "outputs": [
    {
     "name": "stdout",
     "output_type": "stream",
     "text": [
      "0                   Age Both sexes (number) Both sexes (percent)  \\\n",
      "2        Under 15 years               60965                 19.1   \n",
      "3        15 to 17 years               13097                  4.1   \n",
      "4        18 to 20 years               12354                  3.9   \n",
      "5        21 to 44 years              101205                 31.7   \n",
      "6        45 to 64 years               83701                 26.2   \n",
      "7     65 years and over               47547                 14.9   \n",
      "\n",
      "0 Male (number) Male (percent) Female (number) Female (percent)  \n",
      "2         31114           19.9           29851             18.4  \n",
      "3          6624            4.2            6473                4  \n",
      "4          6368            4.1            5985              3.7  \n",
      "5         50272           32.2           50934             31.3  \n",
      "6         40618             26           43083             26.5  \n",
      "7         21209           13.6           26337             16.2  \n",
      "(6, 7)\n"
     ]
    }
   ],
   "source": [
    "# Drop blank rows/columns\n",
    "us_population_2016 = us_population_2016.drop(index = [1,2], axis = 0)\n",
    "\n",
    "# Drop data not in age brackets matching prescription data\n",
    "us_population_2016 = us_population_2016.drop(index = list1, axis = 0)\n",
    "us_population_2016 = us_population_2016.drop(index = list2, axis = 0)\n",
    "\n",
    "# Reset index\n",
    "us_population_2016.reset_index(drop = True, inplace = True)\n",
    "\n",
    "# Rename columns\n",
    "us_population_2016.iloc[1,1] = 'Both sexes (number)'\n",
    "us_population_2016.iloc[1,2] = 'Both sexes (percent)'\n",
    "us_population_2016.iloc[1,3] = 'Male (number)'\n",
    "us_population_2016.iloc[1,4] = 'Male (percent)'\n",
    "us_population_2016.iloc[1,5] = 'Female (number)'\n",
    "us_population_2016.iloc[1,6] = 'Female (percent)'\n",
    "us_population_2016.iloc[2,0] = ''\n",
    "us_population_2016 = us_population_2016.drop(index = [0], axis = 0)\n",
    "us_population_2016.reset_index(drop = True, inplace = True)\n",
    "us_population_2016.columns = us_population_2016.iloc[0]\n",
    "\n",
    "us_population_2016 = us_population_2016.drop(index = [0,1], axis = 0)\n",
    "us_population_2016['Age'] = us_population_2016['Age'].str.replace('.','')\n",
    "\n",
    "print(us_population_2016)\n",
    "print(us_population_2016.shape)"
   ]
  },
  {
   "cell_type": "code",
   "execution_count": 177,
   "id": "ba6dcd9b-418c-4a32-a081-5d2de9e09799",
   "metadata": {},
   "outputs": [
    {
     "name": "stdout",
     "output_type": "stream",
     "text": [
      "0                   Age Both sexes (number) Both sexes (percent)  \\\n",
      "2        Under 15 years               60969                   19   \n",
      "3        15 to 17 years               13078                  4.1   \n",
      "4        18 to 20 years               11983                  3.7   \n",
      "5        21 to 44 years              101718                 31.7   \n",
      "6        45 to 64 years               83351                   26   \n",
      "7     65 years and over               49274                 15.4   \n",
      "\n",
      "0 Male (number) Male (percent) Female (number) Female (percent)  \n",
      "2         31127           19.8           29842             18.3  \n",
      "3          6642            4.2            6436              3.9  \n",
      "4          6131            3.9            5852              3.6  \n",
      "5         50570           32.2           51147             31.3  \n",
      "6         40308           25.7           43042             26.3  \n",
      "7         22160           14.1           27114             16.6  \n",
      "(6, 7)\n"
     ]
    }
   ],
   "source": [
    "# Drop blank rows/columns\n",
    "us_population_2017 = us_population_2017.drop(index = [1,2], axis = 0)\n",
    "\n",
    "# Drop data not in age brackets matching prescription data\n",
    "us_population_2017 = us_population_2017.drop(index = list1, axis = 0)\n",
    "us_population_2017 = us_population_2017.drop(index = list2, axis = 0)\n",
    "\n",
    "# Reset index\n",
    "us_population_2017.reset_index(drop = True, inplace = True)\n",
    "\n",
    "# Rename columns\n",
    "us_population_2017.iloc[1,1] = 'Both sexes (number)'\n",
    "us_population_2017.iloc[1,2] = 'Both sexes (percent)'\n",
    "us_population_2017.iloc[1,3] = 'Male (number)'\n",
    "us_population_2017.iloc[1,4] = 'Male (percent)'\n",
    "us_population_2017.iloc[1,5] = 'Female (number)'\n",
    "us_population_2017.iloc[1,6] = 'Female (percent)'\n",
    "us_population_2017.iloc[2,0] = ''\n",
    "us_population_2017 = us_population_2017.drop(index = [0], axis = 0)\n",
    "us_population_2017.reset_index(drop = True, inplace = True)\n",
    "us_population_2017.columns = us_population_2017.iloc[0]\n",
    "\n",
    "us_population_2017 = us_population_2017.drop(index = [0,1], axis = 0)\n",
    "us_population_2017['Age'] = us_population_2017['Age'].str.replace('.','')\n",
    "\n",
    "print(us_population_2017)\n",
    "print(us_population_2017.shape)"
   ]
  },
  {
   "cell_type": "code",
   "execution_count": 178,
   "id": "9959830a-2f11-49ac-8843-80b555dbea11",
   "metadata": {},
   "outputs": [
    {
     "name": "stdout",
     "output_type": "stream",
     "text": [
      "0                   Age Both sexes (number) Both sexes (percent)  \\\n",
      "2        Under 15 years               60984                 18.9   \n",
      "3        15 to 17 years               12979                    4   \n",
      "4        18 to 20 years               12243                  3.8   \n",
      "5        21 to 44 years              102633                 31.8   \n",
      "6        45 to 64 years               83237                 25.8   \n",
      "7     65 years and over               51080                 15.8   \n",
      "\n",
      "0 Male (number) Male (percent) Female (number) Female (percent)  \n",
      "2         31138           19.7           29846             18.1  \n",
      "3          6582            4.2            6397              3.9  \n",
      "4          6248            3.9            5996              3.6  \n",
      "5         51157           32.3           51476             31.2  \n",
      "6         40242           25.4           42995             26.1  \n",
      "7         23059           14.6           28021               17  \n",
      "(6, 7)\n"
     ]
    }
   ],
   "source": [
    "# Drop blank rows/columns\n",
    "us_population_2018 = us_population_2018.drop(index = [1,2], axis = 0)\n",
    "\n",
    "# Drop data not in age brackets matching prescription data\n",
    "us_population_2018 = us_population_2018.drop(index = list1, axis = 0)\n",
    "us_population_2018 = us_population_2018.drop(index = list2, axis = 0)\n",
    "\n",
    "# Reset index\n",
    "us_population_2018.reset_index(drop = True, inplace = True)\n",
    "\n",
    "# Rename columns\n",
    "us_population_2018.iloc[1,1] = 'Both sexes (number)'\n",
    "us_population_2018.iloc[1,2] = 'Both sexes (percent)'\n",
    "us_population_2018.iloc[1,3] = 'Male (number)'\n",
    "us_population_2018.iloc[1,4] = 'Male (percent)'\n",
    "us_population_2018.iloc[1,5] = 'Female (number)'\n",
    "us_population_2018.iloc[1,6] = 'Female (percent)'\n",
    "us_population_2018.iloc[2,0] = ''\n",
    "us_population_2018 = us_population_2018.drop(index = [0], axis = 0)\n",
    "us_population_2018.reset_index(drop = True, inplace = True)\n",
    "us_population_2018.columns = us_population_2018.iloc[0]\n",
    "\n",
    "us_population_2018 = us_population_2018.drop(index = [0,1], axis = 0)\n",
    "us_population_2018['Age'] = us_population_2018['Age'].str.replace('.','')\n",
    "\n",
    "print(us_population_2018)\n",
    "print(us_population_2018.shape)"
   ]
  },
  {
   "cell_type": "code",
   "execution_count": 179,
   "id": "fdd25409-bd5d-4651-9622-24b5f2443b3c",
   "metadata": {},
   "outputs": [
    {
     "name": "stdout",
     "output_type": "stream",
     "text": [
      "0                   Age Both sexes (number) Both sexes (percent)  \\\n",
      "1        Under 15 years               59101                 17.9   \n",
      "2        15 to 17 years               13399                  4.1   \n",
      "3        18 to 20 years               12601                  3.8   \n",
      "4        21 to 44 years              106258                 32.1   \n",
      "5        45 to 64 years               81389                 24.6   \n",
      "6     65 years and over               57884                 17.5   \n",
      "\n",
      "0 Male (number) Male (percent) Female (number) Female (percent)  \n",
      "1         30252           18.5           28849             17.3  \n",
      "2          6725            4.1            6675                4  \n",
      "3          6579              4            6022              3.6  \n",
      "4         53410           32.7           52847             31.6  \n",
      "5         40131           24.6           41258             24.7  \n",
      "6         26303           16.1           31581             18.9  \n",
      "(6, 7)\n"
     ]
    }
   ],
   "source": [
    "# Drop blank rows/columns\n",
    "us_population_2023 = us_population_2023.drop(index = [0,1,2], axis = 0)\n",
    "\n",
    "# Drop data not in age brackets matching prescription data\n",
    "us_population_2023 = us_population_2023.drop(index = list1, axis = 0)\n",
    "us_population_2023 = us_population_2023.drop(index = list3, axis = 0)\n",
    "\n",
    "# Reset index\n",
    "us_population_2023.reset_index(drop = True, inplace = True)\n",
    "\n",
    "# Rename columns\n",
    "us_population_2023.iloc[1,0] = 'Age'\n",
    "us_population_2023.iloc[1,1] = 'Both sexes (number)'\n",
    "us_population_2023.iloc[1,2] = 'Both sexes (percent)'\n",
    "us_population_2023.iloc[1,3] = 'Male (number)'\n",
    "us_population_2023.iloc[1,4] = 'Male (percent)'\n",
    "us_population_2023.iloc[1,5] = 'Female (number)'\n",
    "us_population_2023.iloc[1,6] = 'Female (percent)'\n",
    "us_population_2023 = us_population_2023.drop(index = [0], axis = 0)\n",
    "us_population_2023.reset_index(drop = True, inplace = True)\n",
    "us_population_2023.columns = us_population_2023.iloc[0]\n",
    "\n",
    "us_population_2023 = us_population_2023.drop(index = [0], axis = 0)\n",
    "us_population_2023['Age'] = us_population_2023['Age'].str.replace('.','')\n",
    "\n",
    "print(us_population_2023)\n",
    "print(us_population_2023.shape)"
   ]
  },
  {
   "cell_type": "code",
   "execution_count": null,
   "id": "20d85383-1b11-479f-aa6f-0dc4c038f6c1",
   "metadata": {},
   "outputs": [],
   "source": [
    "# Check data types; data must be in numeric format; look for missing values; all must be removed for Machine Learning to work"
   ]
  },
  {
   "cell_type": "code",
   "execution_count": 180,
   "id": "f14723af-8c5e-4b72-98ef-b484e5739e8c",
   "metadata": {},
   "outputs": [
    {
     "name": "stdout",
     "output_type": "stream",
     "text": [
      "<class 'pandas.core.frame.DataFrame'>\n",
      "RangeIndex: 14 entries, 0 to 13\n",
      "Data columns (total 2 columns):\n",
      " #   Column             Non-Null Count  Dtype  \n",
      "---  ------             --------------  -----  \n",
      " 0   Year               14 non-null     object \n",
      " 1   Amount (millions)  14 non-null     float64\n",
      "dtypes: float64(1), object(1)\n",
      "memory usage: 356.0+ bytes\n",
      "None\n",
      "<class 'pandas.core.frame.DataFrame'>\n",
      "RangeIndex: 14 entries, 0 to 13\n",
      "Data columns (total 2 columns):\n",
      " #   Column             Non-Null Count  Dtype         \n",
      "---  ------             --------------  -----         \n",
      " 0   Year               14 non-null     datetime64[ns]\n",
      " 1   Amount (millions)  14 non-null     float64       \n",
      "dtypes: datetime64[ns](1), float64(1)\n",
      "memory usage: 356.0 bytes\n",
      "None\n"
     ]
    }
   ],
   "source": [
    "print(prescriptions_dispensed.info())\n",
    "\n",
    "# Change type\n",
    "prescriptions_dispensed['Year'] = pd.to_datetime(prescriptions_dispensed['Year'])\n",
    "\n",
    "print(prescriptions_dispensed.info())"
   ]
  },
  {
   "cell_type": "code",
   "execution_count": 181,
   "id": "1e3da5b5-851c-451f-bac1-b25459949c80",
   "metadata": {},
   "outputs": [
    {
     "name": "stdout",
     "output_type": "stream",
     "text": [
      "<class 'pandas.core.frame.DataFrame'>\n",
      "RangeIndex: 4 entries, 1 to 4\n",
      "Data columns (total 5 columns):\n",
      " #   Column     Non-Null Count  Dtype \n",
      "---  ------     --------------  ----- \n",
      " 0   Age        4 non-null      object\n",
      " 1   1988-1994  4 non-null      object\n",
      " 2   1999-2002  4 non-null      object\n",
      " 3   2011-2014  4 non-null      object\n",
      " 4   2015-2018  4 non-null      object\n",
      "dtypes: object(5)\n",
      "memory usage: 292.0+ bytes\n",
      "None\n",
      "<class 'pandas.core.frame.DataFrame'>\n",
      "RangeIndex: 4 entries, 1 to 4\n",
      "Data columns (total 5 columns):\n",
      " #   Column     Non-Null Count  Dtype  \n",
      "---  ------     --------------  -----  \n",
      " 0   Age        4 non-null      object \n",
      " 1   1988-1994  4 non-null      float64\n",
      " 2   1999-2002  4 non-null      float64\n",
      " 3   2011-2014  4 non-null      float64\n",
      " 4   2015-2018  4 non-null      float64\n",
      "dtypes: float64(4), object(1)\n",
      "memory usage: 292.0+ bytes\n",
      "None\n",
      "(4, 5)\n"
     ]
    }
   ],
   "source": [
    "print(prescription_usage_with_age.info())\n",
    "\n",
    "# Change type\n",
    "prescription_usage_with_age['1988-1994'] = prescription_usage_with_age['1988-1994'].astype(float)\n",
    "prescription_usage_with_age['1999-2002'] = prescription_usage_with_age['1999-2002'].astype(float)\n",
    "prescription_usage_with_age['2011-2014'] = prescription_usage_with_age['2011-2014'].astype(float)\n",
    "prescription_usage_with_age['2015-2018'] = prescription_usage_with_age['2015-2018'].astype(float)\n",
    "\n",
    "print(prescription_usage_with_age.info())\n",
    "print(prescription_usage_with_age.shape)"
   ]
  },
  {
   "cell_type": "code",
   "execution_count": 182,
   "id": "2fb885f9-b4f7-4eaa-b2be-9044e93cbd28",
   "metadata": {},
   "outputs": [
    {
     "name": "stdout",
     "output_type": "stream",
     "text": [
      "<class 'pandas.core.frame.DataFrame'>\n",
      "RangeIndex: 6 entries, 2 to 7\n",
      "Data columns (total 7 columns):\n",
      " #   Column                Non-Null Count  Dtype \n",
      "---  ------                --------------  ----- \n",
      " 0   Age                   6 non-null      object\n",
      " 1   Both sexes (number)   6 non-null      object\n",
      " 2   Both sexes (percent)  6 non-null      object\n",
      " 3   Male (number)         6 non-null      object\n",
      " 4   Male (percent)        6 non-null      object\n",
      " 5   Female (number)       6 non-null      object\n",
      " 6   Female (percent)      6 non-null      object\n",
      "dtypes: object(7)\n",
      "memory usage: 468.0+ bytes\n",
      "None\n",
      "<class 'pandas.core.frame.DataFrame'>\n",
      "RangeIndex: 6 entries, 2 to 7\n",
      "Data columns (total 7 columns):\n",
      " #   Column                Non-Null Count  Dtype  \n",
      "---  ------                --------------  -----  \n",
      " 0   Age                   6 non-null      object \n",
      " 1   Both sexes (number)   6 non-null      int32  \n",
      " 2   Both sexes (percent)  6 non-null      float64\n",
      " 3   Male (number)         6 non-null      int32  \n",
      " 4   Male (percent)        6 non-null      float64\n",
      " 5   Female (number)       6 non-null      int32  \n",
      " 6   Female (percent)      6 non-null      float64\n",
      "dtypes: float64(3), int32(3), object(1)\n",
      "memory usage: 396.0+ bytes\n",
      "None\n",
      "(6, 7)\n"
     ]
    }
   ],
   "source": [
    "print(us_population_2016.info())\n",
    "\n",
    "# Change type\n",
    "us_population_2016['Both sexes (number)'] = us_population_2016['Both sexes (number)'].astype(int)\n",
    "us_population_2016['Both sexes (percent)'] = us_population_2016['Both sexes (percent)'].astype(float)\n",
    "us_population_2016['Male (number)'] = us_population_2016['Male (number)'].astype(int) \n",
    "us_population_2016['Male (percent)'] = us_population_2016['Male (percent)'].astype(float) \n",
    "us_population_2016['Female (number)'] = us_population_2016['Female (number)'].astype(int) \n",
    "us_population_2016['Female (percent)'] = us_population_2016['Female (percent)'].astype(float) \n",
    "\n",
    "print(us_population_2016.info())\n",
    "print(us_population_2016.shape)"
   ]
  },
  {
   "cell_type": "code",
   "execution_count": 183,
   "id": "9b278365-33d1-4047-90c4-f678d4c32979",
   "metadata": {},
   "outputs": [
    {
     "name": "stdout",
     "output_type": "stream",
     "text": [
      "<class 'pandas.core.frame.DataFrame'>\n",
      "RangeIndex: 6 entries, 2 to 7\n",
      "Data columns (total 7 columns):\n",
      " #   Column                Non-Null Count  Dtype \n",
      "---  ------                --------------  ----- \n",
      " 0   Age                   6 non-null      object\n",
      " 1   Both sexes (number)   6 non-null      object\n",
      " 2   Both sexes (percent)  6 non-null      object\n",
      " 3   Male (number)         6 non-null      object\n",
      " 4   Male (percent)        6 non-null      object\n",
      " 5   Female (number)       6 non-null      object\n",
      " 6   Female (percent)      6 non-null      object\n",
      "dtypes: object(7)\n",
      "memory usage: 468.0+ bytes\n",
      "None\n",
      "<class 'pandas.core.frame.DataFrame'>\n",
      "RangeIndex: 6 entries, 2 to 7\n",
      "Data columns (total 7 columns):\n",
      " #   Column                Non-Null Count  Dtype  \n",
      "---  ------                --------------  -----  \n",
      " 0   Age                   6 non-null      object \n",
      " 1   Both sexes (number)   6 non-null      int32  \n",
      " 2   Both sexes (percent)  6 non-null      float64\n",
      " 3   Male (number)         6 non-null      int32  \n",
      " 4   Male (percent)        6 non-null      float64\n",
      " 5   Female (number)       6 non-null      int32  \n",
      " 6   Female (percent)      6 non-null      float64\n",
      "dtypes: float64(3), int32(3), object(1)\n",
      "memory usage: 396.0+ bytes\n",
      "None\n",
      "(6, 7)\n"
     ]
    }
   ],
   "source": [
    "print(us_population_2017.info())\n",
    "\n",
    "# Change type\n",
    "us_population_2017['Both sexes (number)'] = us_population_2017['Both sexes (number)'].astype(int)\n",
    "us_population_2017['Both sexes (percent)'] = us_population_2017['Both sexes (percent)'].astype(float)\n",
    "us_population_2017['Male (number)'] = us_population_2017['Male (number)'].astype(int) \n",
    "us_population_2017['Male (percent)'] = us_population_2017['Male (percent)'].astype(float) \n",
    "us_population_2017['Female (number)'] = us_population_2017['Female (number)'].astype(int) \n",
    "us_population_2017['Female (percent)'] = us_population_2017['Female (percent)'].astype(float) \n",
    "\n",
    "print(us_population_2017.info())\n",
    "print(us_population_2017.shape)"
   ]
  },
  {
   "cell_type": "code",
   "execution_count": 184,
   "id": "bc1ed6f7-c874-4354-a28b-cffe3c0bc9fd",
   "metadata": {},
   "outputs": [
    {
     "name": "stdout",
     "output_type": "stream",
     "text": [
      "<class 'pandas.core.frame.DataFrame'>\n",
      "RangeIndex: 6 entries, 2 to 7\n",
      "Data columns (total 7 columns):\n",
      " #   Column                Non-Null Count  Dtype \n",
      "---  ------                --------------  ----- \n",
      " 0   Age                   6 non-null      object\n",
      " 1   Both sexes (number)   6 non-null      object\n",
      " 2   Both sexes (percent)  6 non-null      object\n",
      " 3   Male (number)         6 non-null      object\n",
      " 4   Male (percent)        6 non-null      object\n",
      " 5   Female (number)       6 non-null      object\n",
      " 6   Female (percent)      6 non-null      object\n",
      "dtypes: object(7)\n",
      "memory usage: 468.0+ bytes\n",
      "None\n",
      "<class 'pandas.core.frame.DataFrame'>\n",
      "RangeIndex: 6 entries, 2 to 7\n",
      "Data columns (total 7 columns):\n",
      " #   Column                Non-Null Count  Dtype  \n",
      "---  ------                --------------  -----  \n",
      " 0   Age                   6 non-null      object \n",
      " 1   Both sexes (number)   6 non-null      int32  \n",
      " 2   Both sexes (percent)  6 non-null      float64\n",
      " 3   Male (number)         6 non-null      int32  \n",
      " 4   Male (percent)        6 non-null      float64\n",
      " 5   Female (number)       6 non-null      int32  \n",
      " 6   Female (percent)      6 non-null      float64\n",
      "dtypes: float64(3), int32(3), object(1)\n",
      "memory usage: 396.0+ bytes\n",
      "None\n",
      "(6, 7)\n"
     ]
    }
   ],
   "source": [
    "print(us_population_2018.info())\n",
    "\n",
    "# Change type\n",
    "us_population_2018['Both sexes (number)'] = us_population_2018['Both sexes (number)'].astype(int)\n",
    "us_population_2018['Both sexes (percent)'] = us_population_2018['Both sexes (percent)'].astype(float)\n",
    "us_population_2018['Male (number)'] = us_population_2018['Male (number)'].astype(int) \n",
    "us_population_2018['Male (percent)'] = us_population_2018['Male (percent)'].astype(float) \n",
    "us_population_2018['Female (number)'] = us_population_2018['Female (number)'].astype(int) \n",
    "us_population_2018['Female (percent)'] = us_population_2018['Female (percent)'].astype(float) \n",
    "\n",
    "print(us_population_2018.info())\n",
    "print(us_population_2018.shape)"
   ]
  },
  {
   "cell_type": "code",
   "execution_count": 185,
   "id": "622e49f1-1fcc-4631-aa0f-c1eec7a4e5a7",
   "metadata": {},
   "outputs": [
    {
     "name": "stdout",
     "output_type": "stream",
     "text": [
      "<class 'pandas.core.frame.DataFrame'>\n",
      "RangeIndex: 6 entries, 1 to 6\n",
      "Data columns (total 7 columns):\n",
      " #   Column                Non-Null Count  Dtype \n",
      "---  ------                --------------  ----- \n",
      " 0   Age                   6 non-null      object\n",
      " 1   Both sexes (number)   6 non-null      object\n",
      " 2   Both sexes (percent)  6 non-null      object\n",
      " 3   Male (number)         6 non-null      object\n",
      " 4   Male (percent)        6 non-null      object\n",
      " 5   Female (number)       6 non-null      object\n",
      " 6   Female (percent)      6 non-null      object\n",
      "dtypes: object(7)\n",
      "memory usage: 468.0+ bytes\n",
      "None\n",
      "<class 'pandas.core.frame.DataFrame'>\n",
      "RangeIndex: 6 entries, 1 to 6\n",
      "Data columns (total 7 columns):\n",
      " #   Column                Non-Null Count  Dtype  \n",
      "---  ------                --------------  -----  \n",
      " 0   Age                   6 non-null      object \n",
      " 1   Both sexes (number)   6 non-null      int32  \n",
      " 2   Both sexes (percent)  6 non-null      float64\n",
      " 3   Male (number)         6 non-null      int32  \n",
      " 4   Male (percent)        6 non-null      float64\n",
      " 5   Female (number)       6 non-null      int32  \n",
      " 6   Female (percent)      6 non-null      float64\n",
      "dtypes: float64(3), int32(3), object(1)\n",
      "memory usage: 396.0+ bytes\n",
      "None\n",
      "(6, 7)\n"
     ]
    }
   ],
   "source": [
    "print(us_population_2023.info())\n",
    "\n",
    "# Change type\n",
    "us_population_2023['Both sexes (number)'] = us_population_2023['Both sexes (number)'].astype(int)\n",
    "us_population_2023['Both sexes (percent)'] = us_population_2023['Both sexes (percent)'].astype(float)\n",
    "us_population_2023['Male (number)'] = us_population_2023['Male (number)'].astype(int) \n",
    "us_population_2023['Male (percent)'] = us_population_2023['Male (percent)'].astype(float) \n",
    "us_population_2023['Female (number)'] = us_population_2023['Female (number)'].astype(int) \n",
    "us_population_2023['Female (percent)'] = us_population_2023['Female (percent)'].astype(float) \n",
    "\n",
    "print(us_population_2023.info())\n",
    "print(us_population_2023.shape)"
   ]
  },
  {
   "cell_type": "code",
   "execution_count": null,
   "id": "f3dbe8fc-a56d-4e71-9296-860aeed7e21a",
   "metadata": {},
   "outputs": [],
   "source": [
    "# Check out time ranges of data"
   ]
  },
  {
   "cell_type": "code",
   "execution_count": 52,
   "id": "aa6c10a8-e795-4020-8b0c-9d1c5c88d15b",
   "metadata": {},
   "outputs": [
    {
     "name": "stdout",
     "output_type": "stream",
     "text": [
      "2009\n",
      "2022\n"
     ]
    }
   ],
   "source": [
    "# prescriptions_dispensed\n",
    "\n",
    "#2009-2022\n",
    "print(min(prescriptions_dispensed['Year']))\n",
    "print(max(prescriptions_dispensed['Year']))\n",
    "\n",
    "# change in data collection method from 2016 onwards"
   ]
  },
  {
   "cell_type": "code",
   "execution_count": null,
   "id": "d6aa82e7-53f5-4c65-9566-2e47591ede0a",
   "metadata": {},
   "outputs": [],
   "source": [
    "# prescription_usage_with_age\n",
    "\n",
    "# 1988-2018; gap from 2003-2011"
   ]
  },
  {
   "cell_type": "code",
   "execution_count": null,
   "id": "446060c2-fef8-41f6-aefc-c57f1ea7a7ae",
   "metadata": {},
   "outputs": [],
   "source": [
    "# us_population\n",
    "\n",
    "# original dataset chosen only contained 2023 data. New data was imported to account for the overlapping time range in the other two sheets (2016-2018)"
   ]
  },
  {
   "cell_type": "code",
   "execution_count": null,
   "id": "98d5de9e-d337-4340-99c4-999233d674de",
   "metadata": {},
   "outputs": [],
   "source": [
    "# Select data of interest; filter by date to 2016-2018"
   ]
  },
  {
   "cell_type": "code",
   "execution_count": 194,
   "id": "23942b9d-a1ea-48eb-9a1e-f5ee6b6f0f15",
   "metadata": {},
   "outputs": [
    {
     "name": "stdout",
     "output_type": "stream",
     "text": [
      "        Year  Amount (millions)\n",
      "7 2016-01-01             5821.0\n",
      "8 2017-01-01             5922.0\n",
      "9 2018-01-01             6077.0\n"
     ]
    }
   ],
   "source": [
    "prescriptions_dispensed = prescriptions_dispensed[(prescriptions_dispensed['Year'] >= '2016') & (prescriptions_dispensed['Year'] <= '2018')]\n",
    "\n",
    "print(prescriptions_dispensed)"
   ]
  },
  {
   "cell_type": "code",
   "execution_count": 195,
   "id": "e764a3f9-c335-457b-b1e8-8fee4c5050f7",
   "metadata": {},
   "outputs": [
    {
     "name": "stdout",
     "output_type": "stream",
     "text": [
      "0                Age  2015-2018\n",
      "1     Under 18 years       21.5\n",
      "2        18-44 years       35.7\n",
      "3        45-64 years       67.1\n",
      "4  65 years and over       88.5\n"
     ]
    }
   ],
   "source": [
    "prescription_usage_with_age = prescription_usage_with_age[['Age', '2015-2018']]\n",
    "\n",
    "print(prescription_usage_with_age)"
   ]
  },
  {
   "cell_type": "code",
   "execution_count": 197,
   "id": "255bb001-16fe-4b92-a2f2-9902d3d8a5bd",
   "metadata": {},
   "outputs": [
    {
     "name": "stdout",
     "output_type": "stream",
     "text": [
      "0                    Age  Both sexes (number)  Both sexes (percent)  \\\n",
      "0         Under 15 years                60965                  19.1   \n",
      "1         15 to 17 years                13097                   4.1   \n",
      "2         18 to 20 years                12354                   3.9   \n",
      "3         21 to 44 years               101205                  31.7   \n",
      "4         45 to 64 years                83701                  26.2   \n",
      "5      65 years and over                47547                  14.9   \n",
      "6         Under 15 years                60969                  19.0   \n",
      "7         15 to 17 years                13078                   4.1   \n",
      "8         18 to 20 years                11983                   3.7   \n",
      "9         21 to 44 years               101718                  31.7   \n",
      "10        45 to 64 years                83351                  26.0   \n",
      "11     65 years and over                49274                  15.4   \n",
      "12        Under 15 years                60984                  18.9   \n",
      "13        15 to 17 years                12979                   4.0   \n",
      "14        18 to 20 years                12243                   3.8   \n",
      "15        21 to 44 years               102633                  31.8   \n",
      "16        45 to 64 years                83237                  25.8   \n",
      "17     65 years and over                51080                  15.8   \n",
      "\n",
      "0   Male (number)  Male (percent)  Female (number)  Female (percent)  Year  \n",
      "0           31114            19.9            29851              18.4  2016  \n",
      "1            6624             4.2             6473               4.0  2016  \n",
      "2            6368             4.1             5985               3.7  2016  \n",
      "3           50272            32.2            50934              31.3  2016  \n",
      "4           40618            26.0            43083              26.5  2016  \n",
      "5           21209            13.6            26337              16.2  2016  \n",
      "6           31127            19.8            29842              18.3  2017  \n",
      "7            6642             4.2             6436               3.9  2017  \n",
      "8            6131             3.9             5852               3.6  2017  \n",
      "9           50570            32.2            51147              31.3  2017  \n",
      "10          40308            25.7            43042              26.3  2017  \n",
      "11          22160            14.1            27114              16.6  2017  \n",
      "12          31138            19.7            29846              18.1  2018  \n",
      "13           6582             4.2             6397               3.9  2018  \n",
      "14           6248             3.9             5996               3.6  2018  \n",
      "15          51157            32.3            51476              31.2  2018  \n",
      "16          40242            25.4            42995              26.1  2018  \n",
      "17          23059            14.6            28021              17.0  2018  \n"
     ]
    }
   ],
   "source": [
    "us_population_2016['Year'] = '2016'\n",
    "us_population_2017['Year'] = '2017'\n",
    "us_population_2018['Year'] = '2018'\n",
    "us_population_2023['Year'] = '2023'\n",
    "\n",
    "us_population = pd.concat([us_population_2016, us_population_2017, us_population_2018], ignore_index = True)\n",
    "print(us_population)"
   ]
  },
  {
   "cell_type": "code",
   "execution_count": 198,
   "id": "daf3e0c4-a3ad-4d4e-9d0a-a0667d615c3e",
   "metadata": {},
   "outputs": [
    {
     "name": "stdout",
     "output_type": "stream",
     "text": [
      "0\n",
      "0\n",
      "0\n"
     ]
    }
   ],
   "source": [
    "# Look for duplicate values\n",
    "\n",
    "print(prescriptions_dispensed.duplicated().sum())\n",
    "print(prescription_usage_with_age.duplicated().sum())\n",
    "print(us_population.duplicated().sum())"
   ]
  },
  {
   "cell_type": "code",
   "execution_count": null,
   "id": "69c9e94e-31ea-435e-8396-5fe291c91f8f",
   "metadata": {},
   "outputs": [],
   "source": [
    "# Look for data that seems suspicious\n",
    "\n",
    "# no percentages above 100%; increased prescription usage with age makes logical sense"
   ]
  },
  {
   "cell_type": "code",
   "execution_count": null,
   "id": "60b5e746-1db9-424f-9676-2075a9f29fff",
   "metadata": {},
   "outputs": [],
   "source": [
    "## Visualize Data"
   ]
  },
  {
   "cell_type": "code",
   "execution_count": 209,
   "id": "df91ca3d-a5e2-4181-8896-468ac3fa98ba",
   "metadata": {},
   "outputs": [
    {
     "data": {
      "image/png": "[encoded data removed]",
      "text/plain": [
       "<Figure size 640x480 with 1 Axes>"
      ]
     },
     "metadata": {},
     "output_type": "display_data"
    }
   ],
   "source": [
    "sns.lineplot(x = 'Year', y = 'Amount (millions)', data = prescriptions_dispensed) \n",
    "date_formatter = DateFormatter('%Y')\n",
    "plt.gca().xaxis.set_major_formatter(date_formatter)\n",
    "plt.xlabel('Year')\n",
    "plt.ylabel('Amount (millions)')\n",
    "plt.title('Prescriptions Dispensed per Year (millions)')\n",
    "plt.show()"
   ]
  },
  {
   "cell_type": "code",
   "execution_count": 214,
   "id": "d5465530-2546-466a-b475-fd4c30cc6854",
   "metadata": {},
   "outputs": [
    {
     "data": {
      "image/png": "[encoded data removed]",
      "text/plain": [
       "<Figure size 640x480 with 1 Axes>"
      ]
     },
     "metadata": {},
     "output_type": "display_data"
    }
   ],
   "source": [
    "sns.barplot(x = 'Age', y = '2015-2018', data = prescription_usage_with_age)\n",
    "plt.title('Prescription Usage by Age Group')\n",
    "plt.show()"
   ]
  },
  {
   "cell_type": "code",
   "execution_count": 216,
   "id": "fde1261d-da78-4926-8f76-44cafed2f4d7",
   "metadata": {},
   "outputs": [
    {
     "data": {
      "image/png": "[encoded data removed]",
      "text/plain": [
       "<Figure size 640x480 with 1 Axes>"
      ]
     },
     "metadata": {},
     "output_type": "display_data"
    }
   ],
   "source": [
    "sns.barplot(x = 'Age', y = 'Both sexes (percent)', data = us_population, hue = 'Year')\n",
    "plt.title('Population Distribution by Age')\n",
    "plt.xticks(rotation = 45)\n",
    "plt.show()"
   ]
  }
 ],
 "metadata": {
  "kernelspec": {
   "display_name": "Python [conda env:base] *",
   "language": "python",
   "name": "conda-base-py"
  },
  "language_info": {
   "codemirror_mode": {
    "name": "ipython",
    "version": 3
   },
   "file_extension": ".py",
   "mimetype": "text/x-python",
   "name": "python",
   "nbconvert_exporter": "python",
   "pygments_lexer": "ipython3",
   "version": "3.12.7"
  }
 },
 "nbformat": 4,
 "nbformat_minor": 5
}
